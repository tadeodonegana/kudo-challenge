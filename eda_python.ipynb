{
 "cells": [
  {
   "cell_type": "markdown",
   "metadata": {},
   "source": [
    "## Kudo Jr. Data Analyst Challenge - EDA using Python\n",
    "\n",
    "Exploratory data analysis for the **Kudo Jr. Data Analyst Challenge**.\n",
    "\n",
    "*This is a complimentary attachment to show how to do a simple analysis using python, the main work was done using Tableau.*\n",
    "\n",
    "You can see the Tableau Dashboard [here](https://public.tableau.com/views/KudoJr_DataAnalystChallenge/KudoJr_DataAnalystChallengeDashboard?:language=en-US&:display_count=n&:origin=viz_share_link)."
   ]
  },
  {
   "cell_type": "markdown",
   "metadata": {},
   "source": [
    "### Imports"
   ]
  },
  {
   "cell_type": "code",
   "execution_count": 176,
   "metadata": {},
   "outputs": [],
   "source": [
    "import pandas as pd\n",
    "import matplotlib.pyplot as plt"
   ]
  },
  {
   "cell_type": "markdown",
   "metadata": {},
   "source": [
    "### Importing the data"
   ]
  },
  {
   "cell_type": "code",
   "execution_count": 177,
   "metadata": {},
   "outputs": [],
   "source": [
    "# Read each Excel sheet\n",
    "customer_df = pd.read_excel('kudo_test_jr_data_analyst.xlsx', sheet_name='customer')\n",
    "customer_subscription_df = pd.read_excel('kudo_test_jr_data_analyst.xlsx', sheet_name='customer_subscription')\n",
    "subscriptions_df = pd.read_excel('kudo_test_jr_data_analyst.xlsx', sheet_name='subscriptions')\n",
    "customer_meetings_df = pd.read_excel('kudo_test_jr_data_analyst.xlsx', sheet_name='customer_meetings')"
   ]
  },
  {
   "cell_type": "code",
   "execution_count": 178,
   "metadata": {},
   "outputs": [
    {
     "name": "stdout",
     "output_type": "stream",
     "text": [
      "<class 'pandas.core.frame.DataFrame'>\n",
      "RangeIndex: 30 entries, 0 to 29\n",
      "Data columns (total 3 columns):\n",
      " #   Column  Non-Null Count  Dtype \n",
      "---  ------  --------------  ----- \n",
      " 0   id      30 non-null     int64 \n",
      " 1   name    30 non-null     object\n",
      " 2   type    30 non-null     object\n",
      "dtypes: int64(1), object(2)\n",
      "memory usage: 848.0+ bytes\n"
     ]
    }
   ],
   "source": [
    "# Info about the customer dataframe\n",
    "customer_df.info()"
   ]
  },
  {
   "cell_type": "code",
   "execution_count": 179,
   "metadata": {},
   "outputs": [
    {
     "data": {
      "text/html": [
       "<div>\n",
       "<style scoped>\n",
       "    .dataframe tbody tr th:only-of-type {\n",
       "        vertical-align: middle;\n",
       "    }\n",
       "\n",
       "    .dataframe tbody tr th {\n",
       "        vertical-align: top;\n",
       "    }\n",
       "\n",
       "    .dataframe thead th {\n",
       "        text-align: right;\n",
       "    }\n",
       "</style>\n",
       "<table border=\"1\" class=\"dataframe\">\n",
       "  <thead>\n",
       "    <tr style=\"text-align: right;\">\n",
       "      <th></th>\n",
       "      <th>id</th>\n",
       "      <th>name</th>\n",
       "      <th>type</th>\n",
       "    </tr>\n",
       "  </thead>\n",
       "  <tbody>\n",
       "    <tr>\n",
       "      <th>0</th>\n",
       "      <td>1</td>\n",
       "      <td>Kaitlin Roberson MN</td>\n",
       "      <td>Customer</td>\n",
       "    </tr>\n",
       "    <tr>\n",
       "      <th>1</th>\n",
       "      <td>2</td>\n",
       "      <td>Jaslene Price DC</td>\n",
       "      <td>Customer</td>\n",
       "    </tr>\n",
       "    <tr>\n",
       "      <th>2</th>\n",
       "      <td>3</td>\n",
       "      <td>Brent Hoover IL</td>\n",
       "      <td>Partner</td>\n",
       "    </tr>\n",
       "    <tr>\n",
       "      <th>3</th>\n",
       "      <td>4</td>\n",
       "      <td>Meredith Page NY</td>\n",
       "      <td>Partner</td>\n",
       "    </tr>\n",
       "    <tr>\n",
       "      <th>4</th>\n",
       "      <td>5</td>\n",
       "      <td>Sam Webster DC</td>\n",
       "      <td>Customer</td>\n",
       "    </tr>\n",
       "  </tbody>\n",
       "</table>\n",
       "</div>"
      ],
      "text/plain": [
       "   id                 name      type\n",
       "0   1  Kaitlin Roberson MN  Customer\n",
       "1   2     Jaslene Price DC  Customer\n",
       "2   3      Brent Hoover IL   Partner\n",
       "3   4     Meredith Page NY   Partner\n",
       "4   5       Sam Webster DC  Customer"
      ]
     },
     "execution_count": 179,
     "metadata": {},
     "output_type": "execute_result"
    }
   ],
   "source": [
    "# Prints the first five rows of the customer dataframe\n",
    "customer_df.head()"
   ]
  },
  {
   "cell_type": "code",
   "execution_count": 180,
   "metadata": {},
   "outputs": [
    {
     "name": "stdout",
     "output_type": "stream",
     "text": [
      "False\n",
      "False\n",
      "False\n",
      "False\n"
     ]
    }
   ],
   "source": [
    "# Check for null values in each dataframe\n",
    "print(customer_df.isnull().values.any())\n",
    "print(customer_subscription_df.isnull().values.any())\n",
    "print(subscriptions_df.isnull().values.any())\n",
    "print(customer_meetings_df.isnull().values.any())"
   ]
  },
  {
   "cell_type": "markdown",
   "metadata": {},
   "source": [
    "We can see that this is a relatively small dataset and it does not contain dirty values to clean, so let's proceed with the analysis."
   ]
  },
  {
   "cell_type": "markdown",
   "metadata": {},
   "source": [
    "### Joining the dataframes"
   ]
  },
  {
   "cell_type": "code",
   "execution_count": 181,
   "metadata": {},
   "outputs": [
    {
     "data": {
      "text/html": [
       "<div>\n",
       "<style scoped>\n",
       "    .dataframe tbody tr th:only-of-type {\n",
       "        vertical-align: middle;\n",
       "    }\n",
       "\n",
       "    .dataframe tbody tr th {\n",
       "        vertical-align: top;\n",
       "    }\n",
       "\n",
       "    .dataframe thead th {\n",
       "        text-align: right;\n",
       "    }\n",
       "</style>\n",
       "<table border=\"1\" class=\"dataframe\">\n",
       "  <thead>\n",
       "    <tr style=\"text-align: right;\">\n",
       "      <th></th>\n",
       "      <th>id</th>\n",
       "      <th>customer_id</th>\n",
       "      <th>meeting_date</th>\n",
       "      <th>meeting_duration_seconds</th>\n",
       "      <th>name</th>\n",
       "      <th>type</th>\n",
       "    </tr>\n",
       "  </thead>\n",
       "  <tbody>\n",
       "    <tr>\n",
       "      <th>0</th>\n",
       "      <td>1</td>\n",
       "      <td>4</td>\n",
       "      <td>2022-03-28</td>\n",
       "      <td>198</td>\n",
       "      <td>Meredith Page NY</td>\n",
       "      <td>Partner</td>\n",
       "    </tr>\n",
       "    <tr>\n",
       "      <th>1</th>\n",
       "      <td>2</td>\n",
       "      <td>30</td>\n",
       "      <td>2022-09-04</td>\n",
       "      <td>430</td>\n",
       "      <td>Tori Schaefer VI</td>\n",
       "      <td>Partner</td>\n",
       "    </tr>\n",
       "    <tr>\n",
       "      <th>2</th>\n",
       "      <td>3</td>\n",
       "      <td>3</td>\n",
       "      <td>2022-07-08</td>\n",
       "      <td>89</td>\n",
       "      <td>Brent Hoover IL</td>\n",
       "      <td>Partner</td>\n",
       "    </tr>\n",
       "    <tr>\n",
       "      <th>3</th>\n",
       "      <td>4</td>\n",
       "      <td>21</td>\n",
       "      <td>2022-03-16</td>\n",
       "      <td>150</td>\n",
       "      <td>Emilia Choi SD</td>\n",
       "      <td>Customer</td>\n",
       "    </tr>\n",
       "    <tr>\n",
       "      <th>4</th>\n",
       "      <td>5</td>\n",
       "      <td>1</td>\n",
       "      <td>2022-03-15</td>\n",
       "      <td>93</td>\n",
       "      <td>Kaitlin Roberson MN</td>\n",
       "      <td>Customer</td>\n",
       "    </tr>\n",
       "  </tbody>\n",
       "</table>\n",
       "</div>"
      ],
      "text/plain": [
       "   id  customer_id meeting_date  meeting_duration_seconds  \\\n",
       "0   1            4   2022-03-28                       198   \n",
       "1   2           30   2022-09-04                       430   \n",
       "2   3            3   2022-07-08                        89   \n",
       "3   4           21   2022-03-16                       150   \n",
       "4   5            1   2022-03-15                        93   \n",
       "\n",
       "                  name      type  \n",
       "0     Meredith Page NY   Partner  \n",
       "1     Tori Schaefer VI   Partner  \n",
       "2      Brent Hoover IL   Partner  \n",
       "3       Emilia Choi SD  Customer  \n",
       "4  Kaitlin Roberson MN  Customer  "
      ]
     },
     "execution_count": 181,
     "metadata": {},
     "output_type": "execute_result"
    }
   ],
   "source": [
    "# Left Join between the customer_meetings and customer dataframes.\n",
    "meetings_and_customer_df = pd.merge(customer_meetings_df, customer_df, left_on='customer_id', right_on='id', how='left', suffixes=('', '_drop'))\n",
    "\n",
    "# Drop duplicated columns\n",
    "meetings_and_customer_df.drop([col for col in meetings_and_customer_df.columns if 'drop' in col], axis=1, inplace=True)\n",
    "\n",
    "meetings_and_customer_df.head()"
   ]
  },
  {
   "cell_type": "code",
   "execution_count": 182,
   "metadata": {},
   "outputs": [
    {
     "data": {
      "text/html": [
       "<div>\n",
       "<style scoped>\n",
       "    .dataframe tbody tr th:only-of-type {\n",
       "        vertical-align: middle;\n",
       "    }\n",
       "\n",
       "    .dataframe tbody tr th {\n",
       "        vertical-align: top;\n",
       "    }\n",
       "\n",
       "    .dataframe thead th {\n",
       "        text-align: right;\n",
       "    }\n",
       "</style>\n",
       "<table border=\"1\" class=\"dataframe\">\n",
       "  <thead>\n",
       "    <tr style=\"text-align: right;\">\n",
       "      <th></th>\n",
       "      <th>id</th>\n",
       "      <th>customer_id</th>\n",
       "      <th>meeting_date</th>\n",
       "      <th>meeting_duration_seconds</th>\n",
       "      <th>name</th>\n",
       "      <th>type</th>\n",
       "      <th>subscription_id</th>\n",
       "    </tr>\n",
       "  </thead>\n",
       "  <tbody>\n",
       "    <tr>\n",
       "      <th>0</th>\n",
       "      <td>1</td>\n",
       "      <td>4</td>\n",
       "      <td>2022-03-28</td>\n",
       "      <td>198</td>\n",
       "      <td>Meredith Page NY</td>\n",
       "      <td>Partner</td>\n",
       "      <td>1</td>\n",
       "    </tr>\n",
       "    <tr>\n",
       "      <th>1</th>\n",
       "      <td>2</td>\n",
       "      <td>30</td>\n",
       "      <td>2022-09-04</td>\n",
       "      <td>430</td>\n",
       "      <td>Tori Schaefer VI</td>\n",
       "      <td>Partner</td>\n",
       "      <td>4</td>\n",
       "    </tr>\n",
       "    <tr>\n",
       "      <th>2</th>\n",
       "      <td>3</td>\n",
       "      <td>3</td>\n",
       "      <td>2022-07-08</td>\n",
       "      <td>89</td>\n",
       "      <td>Brent Hoover IL</td>\n",
       "      <td>Partner</td>\n",
       "      <td>1</td>\n",
       "    </tr>\n",
       "    <tr>\n",
       "      <th>3</th>\n",
       "      <td>4</td>\n",
       "      <td>21</td>\n",
       "      <td>2022-03-16</td>\n",
       "      <td>150</td>\n",
       "      <td>Emilia Choi SD</td>\n",
       "      <td>Customer</td>\n",
       "      <td>2</td>\n",
       "    </tr>\n",
       "    <tr>\n",
       "      <th>4</th>\n",
       "      <td>5</td>\n",
       "      <td>1</td>\n",
       "      <td>2022-03-15</td>\n",
       "      <td>93</td>\n",
       "      <td>Kaitlin Roberson MN</td>\n",
       "      <td>Customer</td>\n",
       "      <td>4</td>\n",
       "    </tr>\n",
       "  </tbody>\n",
       "</table>\n",
       "</div>"
      ],
      "text/plain": [
       "   id  customer_id meeting_date  meeting_duration_seconds  \\\n",
       "0   1            4   2022-03-28                       198   \n",
       "1   2           30   2022-09-04                       430   \n",
       "2   3            3   2022-07-08                        89   \n",
       "3   4           21   2022-03-16                       150   \n",
       "4   5            1   2022-03-15                        93   \n",
       "\n",
       "                  name      type  subscription_id  \n",
       "0     Meredith Page NY   Partner                1  \n",
       "1     Tori Schaefer VI   Partner                4  \n",
       "2      Brent Hoover IL   Partner                1  \n",
       "3       Emilia Choi SD  Customer                2  \n",
       "4  Kaitlin Roberson MN  Customer                4  "
      ]
     },
     "execution_count": 182,
     "metadata": {},
     "output_type": "execute_result"
    }
   ],
   "source": [
    "# Left Join between the previously generated dataframe and customer_subscription dataframe.\n",
    "meetings_and_customer_df = pd.merge(meetings_and_customer_df, customer_subscription_df, on='customer_id', how=\"left\", suffixes=('', '_drop'))\n",
    "\n",
    "# Drop duplicated columns\n",
    "meetings_and_customer_df.drop([col for col in meetings_and_customer_df.columns if 'drop' in col], axis=1, inplace=True)\n",
    "\n",
    "meetings_and_customer_df.head()"
   ]
  },
  {
   "cell_type": "code",
   "execution_count": 183,
   "metadata": {},
   "outputs": [
    {
     "data": {
      "text/html": [
       "<div>\n",
       "<style scoped>\n",
       "    .dataframe tbody tr th:only-of-type {\n",
       "        vertical-align: middle;\n",
       "    }\n",
       "\n",
       "    .dataframe tbody tr th {\n",
       "        vertical-align: top;\n",
       "    }\n",
       "\n",
       "    .dataframe thead th {\n",
       "        text-align: right;\n",
       "    }\n",
       "</style>\n",
       "<table border=\"1\" class=\"dataframe\">\n",
       "  <thead>\n",
       "    <tr style=\"text-align: right;\">\n",
       "      <th></th>\n",
       "      <th>id</th>\n",
       "      <th>customer_id</th>\n",
       "      <th>meeting_date</th>\n",
       "      <th>meeting_duration_seconds</th>\n",
       "      <th>name</th>\n",
       "      <th>type</th>\n",
       "      <th>subscription_id</th>\n",
       "      <th>subscription_name</th>\n",
       "      <th>purchased_hours</th>\n",
       "      <th>price</th>\n",
       "    </tr>\n",
       "  </thead>\n",
       "  <tbody>\n",
       "    <tr>\n",
       "      <th>0</th>\n",
       "      <td>1</td>\n",
       "      <td>4</td>\n",
       "      <td>2022-03-28</td>\n",
       "      <td>198</td>\n",
       "      <td>Meredith Page NY</td>\n",
       "      <td>Partner</td>\n",
       "      <td>1</td>\n",
       "      <td>Basic</td>\n",
       "      <td>10</td>\n",
       "      <td>100</td>\n",
       "    </tr>\n",
       "    <tr>\n",
       "      <th>1</th>\n",
       "      <td>2</td>\n",
       "      <td>30</td>\n",
       "      <td>2022-09-04</td>\n",
       "      <td>430</td>\n",
       "      <td>Tori Schaefer VI</td>\n",
       "      <td>Partner</td>\n",
       "      <td>4</td>\n",
       "      <td>Premium</td>\n",
       "      <td>100</td>\n",
       "      <td>700</td>\n",
       "    </tr>\n",
       "    <tr>\n",
       "      <th>2</th>\n",
       "      <td>3</td>\n",
       "      <td>3</td>\n",
       "      <td>2022-07-08</td>\n",
       "      <td>89</td>\n",
       "      <td>Brent Hoover IL</td>\n",
       "      <td>Partner</td>\n",
       "      <td>1</td>\n",
       "      <td>Basic</td>\n",
       "      <td>10</td>\n",
       "      <td>100</td>\n",
       "    </tr>\n",
       "    <tr>\n",
       "      <th>3</th>\n",
       "      <td>4</td>\n",
       "      <td>21</td>\n",
       "      <td>2022-03-16</td>\n",
       "      <td>150</td>\n",
       "      <td>Emilia Choi SD</td>\n",
       "      <td>Customer</td>\n",
       "      <td>2</td>\n",
       "      <td>Regular</td>\n",
       "      <td>30</td>\n",
       "      <td>270</td>\n",
       "    </tr>\n",
       "    <tr>\n",
       "      <th>4</th>\n",
       "      <td>5</td>\n",
       "      <td>1</td>\n",
       "      <td>2022-03-15</td>\n",
       "      <td>93</td>\n",
       "      <td>Kaitlin Roberson MN</td>\n",
       "      <td>Customer</td>\n",
       "      <td>4</td>\n",
       "      <td>Premium</td>\n",
       "      <td>100</td>\n",
       "      <td>700</td>\n",
       "    </tr>\n",
       "    <tr>\n",
       "      <th>...</th>\n",
       "      <td>...</td>\n",
       "      <td>...</td>\n",
       "      <td>...</td>\n",
       "      <td>...</td>\n",
       "      <td>...</td>\n",
       "      <td>...</td>\n",
       "      <td>...</td>\n",
       "      <td>...</td>\n",
       "      <td>...</td>\n",
       "      <td>...</td>\n",
       "    </tr>\n",
       "    <tr>\n",
       "      <th>295</th>\n",
       "      <td>296</td>\n",
       "      <td>6</td>\n",
       "      <td>2022-08-26</td>\n",
       "      <td>200</td>\n",
       "      <td>Lisa Coleman NM</td>\n",
       "      <td>Partner</td>\n",
       "      <td>1</td>\n",
       "      <td>Basic</td>\n",
       "      <td>10</td>\n",
       "      <td>100</td>\n",
       "    </tr>\n",
       "    <tr>\n",
       "      <th>296</th>\n",
       "      <td>297</td>\n",
       "      <td>28</td>\n",
       "      <td>2022-07-10</td>\n",
       "      <td>273</td>\n",
       "      <td>Quinn Gregory FL</td>\n",
       "      <td>Customer</td>\n",
       "      <td>3</td>\n",
       "      <td>Advanced</td>\n",
       "      <td>50</td>\n",
       "      <td>400</td>\n",
       "    </tr>\n",
       "    <tr>\n",
       "      <th>297</th>\n",
       "      <td>298</td>\n",
       "      <td>24</td>\n",
       "      <td>2022-08-09</td>\n",
       "      <td>271</td>\n",
       "      <td>Tomas Barron MI</td>\n",
       "      <td>Customer</td>\n",
       "      <td>1</td>\n",
       "      <td>Basic</td>\n",
       "      <td>10</td>\n",
       "      <td>100</td>\n",
       "    </tr>\n",
       "    <tr>\n",
       "      <th>298</th>\n",
       "      <td>299</td>\n",
       "      <td>10</td>\n",
       "      <td>2022-11-04</td>\n",
       "      <td>211</td>\n",
       "      <td>Darryl Frazier TX</td>\n",
       "      <td>Customer</td>\n",
       "      <td>4</td>\n",
       "      <td>Premium</td>\n",
       "      <td>100</td>\n",
       "      <td>700</td>\n",
       "    </tr>\n",
       "    <tr>\n",
       "      <th>299</th>\n",
       "      <td>300</td>\n",
       "      <td>28</td>\n",
       "      <td>2022-01-29</td>\n",
       "      <td>282</td>\n",
       "      <td>Quinn Gregory FL</td>\n",
       "      <td>Customer</td>\n",
       "      <td>3</td>\n",
       "      <td>Advanced</td>\n",
       "      <td>50</td>\n",
       "      <td>400</td>\n",
       "    </tr>\n",
       "  </tbody>\n",
       "</table>\n",
       "<p>300 rows × 10 columns</p>\n",
       "</div>"
      ],
      "text/plain": [
       "      id  customer_id meeting_date  meeting_duration_seconds  \\\n",
       "0      1            4   2022-03-28                       198   \n",
       "1      2           30   2022-09-04                       430   \n",
       "2      3            3   2022-07-08                        89   \n",
       "3      4           21   2022-03-16                       150   \n",
       "4      5            1   2022-03-15                        93   \n",
       "..   ...          ...          ...                       ...   \n",
       "295  296            6   2022-08-26                       200   \n",
       "296  297           28   2022-07-10                       273   \n",
       "297  298           24   2022-08-09                       271   \n",
       "298  299           10   2022-11-04                       211   \n",
       "299  300           28   2022-01-29                       282   \n",
       "\n",
       "                    name      type  subscription_id subscription_name  \\\n",
       "0       Meredith Page NY   Partner                1             Basic   \n",
       "1       Tori Schaefer VI   Partner                4           Premium   \n",
       "2        Brent Hoover IL   Partner                1             Basic   \n",
       "3         Emilia Choi SD  Customer                2           Regular   \n",
       "4    Kaitlin Roberson MN  Customer                4           Premium   \n",
       "..                   ...       ...              ...               ...   \n",
       "295      Lisa Coleman NM   Partner                1             Basic   \n",
       "296     Quinn Gregory FL  Customer                3          Advanced   \n",
       "297      Tomas Barron MI  Customer                1             Basic   \n",
       "298    Darryl Frazier TX  Customer                4           Premium   \n",
       "299     Quinn Gregory FL  Customer                3          Advanced   \n",
       "\n",
       "     purchased_hours  price  \n",
       "0                 10    100  \n",
       "1                100    700  \n",
       "2                 10    100  \n",
       "3                 30    270  \n",
       "4                100    700  \n",
       "..               ...    ...  \n",
       "295               10    100  \n",
       "296               50    400  \n",
       "297               10    100  \n",
       "298              100    700  \n",
       "299               50    400  \n",
       "\n",
       "[300 rows x 10 columns]"
      ]
     },
     "execution_count": 183,
     "metadata": {},
     "output_type": "execute_result"
    }
   ],
   "source": [
    "# Left Join between the previously generated dataframe and subscriptions dataframe.\n",
    "meetings_and_customer_df = pd.merge(meetings_and_customer_df, subscriptions_df, left_on='subscription_id', right_on='id', how=\"left\", suffixes=('', '_drop'))\n",
    "\n",
    "# Prevent the subscription name of being removed\n",
    "meetings_and_customer_df.rename(columns = {'name_drop':'subscription_name'}, inplace=True) \n",
    "\n",
    "# Drop duplicated columns\n",
    "meetings_and_customer_df.drop([col for col in meetings_and_customer_df.columns if 'drop' in col], axis=1, inplace=True)\n",
    "\n",
    "meetings_and_customer_df"
   ]
  },
  {
   "cell_type": "markdown",
   "metadata": {},
   "source": [
    "### Getting some insights from graphs"
   ]
  },
  {
   "cell_type": "code",
   "execution_count": 184,
   "metadata": {},
   "outputs": [
    {
     "data": {
      "text/plain": [
       "<AxesSubplot:xlabel='type'>"
      ]
     },
     "execution_count": 184,
     "metadata": {},
     "output_type": "execute_result"
    },
    {
     "data": {
      "image/png": "[encoded data removed]",
      "text/plain": [
       "<Figure size 432x288 with 1 Axes>"
      ]
     },
     "metadata": {
      "needs_background": "light"
     },
     "output_type": "display_data"
    }
   ],
   "source": [
    "# Number of Partners and Customers (sorted asc.)\n",
    "meetings_and_customer_df.groupby(\"type\").nunique()[\"customer_id\"].sort_values().plot(kind=\"bar\")"
   ]
  },
  {
   "cell_type": "code",
   "execution_count": 185,
   "metadata": {},
   "outputs": [
    {
     "data": {
      "text/plain": [
       "<AxesSubplot:ylabel='customer_id'>"
      ]
     },
     "execution_count": 185,
     "metadata": {},
     "output_type": "execute_result"
    },
    {
     "data": {
      "image/png": "[encoded data removed]",
      "text/plain": [
       "<Figure size 432x288 with 1 Axes>"
      ]
     },
     "metadata": {},
     "output_type": "display_data"
    }
   ],
   "source": [
    "# Subscriptions type distribution\n",
    "meetings_and_customer_df.groupby(\"subscription_name\").nunique()[\"customer_id\"].plot(kind=\"pie\", autopct='%.1f%%')"
   ]
  },
  {
   "cell_type": "code",
   "execution_count": 186,
   "metadata": {},
   "outputs": [
    {
     "data": {
      "text/plain": [
       "<AxesSubplot:xlabel='meeting_date'>"
      ]
     },
     "execution_count": 186,
     "metadata": {},
     "output_type": "execute_result"
    },
    {
     "data": {
      "image/png": "[encoded data removed]",
      "text/plain": [
       "<Figure size 432x288 with 1 Axes>"
      ]
     },
     "metadata": {
      "needs_background": "light"
     },
     "output_type": "display_data"
    }
   ],
   "source": [
    "# Meetings per month (sorted asc.)\n",
    "meetings_and_customer_df.groupby(meetings_and_customer_df[\"meeting_date\"].dt.strftime('%B')).count()[\"id\"].sort_values().plot(kind=\"bar\")"
   ]
  },
  {
   "cell_type": "code",
   "execution_count": 187,
   "metadata": {},
   "outputs": [
    {
     "data": {
      "text/plain": [
       "<AxesSubplot:xlabel='name', ylabel='Duration (seconds)'>"
      ]
     },
     "execution_count": 187,
     "metadata": {},
     "output_type": "execute_result"
    },
    {
     "data": {
      "image/png": "[encoded data removed]",
      "text/plain": [
       "<Figure size 432x288 with 1 Axes>"
      ]
     },
     "metadata": {
      "needs_background": "light"
     },
     "output_type": "display_data"
    }
   ],
   "source": [
    "# How many seconds each user spend in meetings (sorted asc.)\n",
    "meetings_and_customer_df.groupby(meetings_and_customer_df[\"name\"]).sum()[\"meeting_duration_seconds\"].sort_values().plot(kind=\"bar\",ylabel=\"Duration (seconds)\")"
   ]
  },
  {
   "cell_type": "markdown",
   "metadata": {},
   "source": [
    "These are just some examples I coded to show my proficiency using Python. \n",
    "\n",
    "For a further analysis, visit the Tableau Dashboard and the slides presented."
   ]
  }
 ],
 "metadata": {
  "kernelspec": {
   "display_name": "Python 3.10.4 64-bit",
   "language": "python",
   "name": "python3"
  },
  "language_info": {
   "codemirror_mode": {
    "name": "ipython",
    "version": 3
   },
   "file_extension": ".py",
   "mimetype": "text/x-python",
   "name": "python",
   "nbconvert_exporter": "python",
   "pygments_lexer": "ipython3",
   "version": "3.10.4"
  },
  "orig_nbformat": 4,
  "vscode": {
   "interpreter": {
    "hash": "369f2c481f4da34e4445cda3fffd2e751bd1c4d706f27375911949ba6bb62e1c"
   }
  }
 },
 "nbformat": 4,
 "nbformat_minor": 2
}
